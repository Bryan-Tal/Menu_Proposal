{
 "cells": [
  {
   "cell_type": "code",
   "execution_count": 1,
   "metadata": {},
   "outputs": [],
   "source": [
    "import numpy as np\n",
    "import pandas as pd"
   ]
  },
  {
   "cell_type": "code",
   "execution_count": 2,
   "metadata": {},
   "outputs": [],
   "source": [
    "# Menu structured as a list of data frames\n",
    "bad_menu = []\n",
    "good_menu = []\n",
    "# menu button dims 8*3"
   ]
  },
  {
   "cell_type": "code",
   "execution_count": 3,
   "metadata": {},
   "outputs": [],
   "source": [
    "#create all dfs for menus\n",
    "# df naming convention: (list position)_(Official name on menu)_(bad/good menu)\n",
    "df1_DEL_Retail_OLO_good = pd.DataFrame(columns=['Retail Rice','OLO','Pint Sauces','1Oz Sauces','Restaurant'])\n",
    "df1_DEL_Retail_OLO_bad = pd.DataFrame(columns=['Retail Rice','Retail Sauce','1 Oz Sauces'])\n",
    "\n",
    "df1_retail_rice_bad = [\"Brown Rice 2 Sv\", \"HBR 2 Srv\", \"HBR 4 Srv\",\"HCR 2 Serv\", \"HCR 4 Serv\", \"HSR 2 Serv\", \"HSR 4 Serv\",\"Spicy HBR 2 Srv\",\"Spicy HBR 4 Srv\",\"Spcy HCR 2 Srv\",\"Spcy HCR 4 Srv\",\"Spicy HSR 2 Srv\", \"Spicy HSR 4 Srv\", \"Steam Rice 2 Sv\",\"Veg FR 2 Srv\", \"Veg FR 4 Srv\",'Guest Name','Phone Number','OT Order ', 'OLO - Disp Fee', 'Single Use Item']\n",
    "# replacing inconsistencies in the menu names\n",
    "df1_OLO_good =['Guest Name','Phone Number','OT Order #', 'OLO - Disp Fee', 'Single Use Item']\n",
    "df1_retail_rice_good = [i.replace('Serv','Srv').replace(\"Veg FR\",'VFR').replace(\"Spicy \", \"Sp \").replace(\"Spcy\",\"Sp\") for i in df1_retail_rice_bad][:-5]\n",
    "\n",
    "\n",
    "df1_Retail_sauce_bad = ['Gar Sauce 1pnt', \"Ginger Sau Pnt\",\"Hot Sauce 4oz\",\"Mustard Sau Pnt\",\"Salad Dress Pnt\",\"Teri Sauce Pint\",\"Yum Yum Sau Pnt\"]\n",
    "# replacing inconsistencies in the menu names\n",
    "df1_Retail_Pintsauce_good = [i.replace(\"Gar\",\"Garlic\").replace(\"Sauce\",\"Sau\").replace(\"Pint\",\"Pnt\").replace(\"1pnt\",'Pnt')for i in df1_Retail_sauce_bad]\n",
    "\n",
    "df1_1oz_sauce_bad = ['Avo Tar Sau 1oz','Diablo Sau 1oz','Eel Sau 1oz','Garlic Sau 1oz','Gingr Drsng 1oz', 'Ginger Sau 1oz','Hot Sauce 1oz','Mustard Sau 1oz','Sp Ter Sau 1oz','Spicy Mayo 1oz','Teri Sauce 1oz','Yum Yum Sau 1oz']\n",
    "# replacing inconsistencies in the menu names\n",
    "df1_Retail_1oz_sauce_good = [i.replace(\"Sauce\",\"Sau\").replace(\"Ter \",\"Teri \").replace(\"Spicy \", \"Sp \") for i in df1_1oz_sauce_bad]"
   ]
  },
  {
   "cell_type": "code",
   "execution_count": 4,
   "metadata": {},
   "outputs": [],
   "source": [
    "def check_char_limit(data_list):\n",
    "    more_than_15 = False\n",
    "    for (i in data_list):\n",
    "        if len(i) > 15:\n",
    "            print(i)\n",
    "            more_than_15 = True\n",
    "    if more_than_15 == True:\n",
    "        return False\n",
    "    else:\n",
    "        return True"
   ]
  },
  {
   "cell_type": "code",
   "execution_count": 35,
   "metadata": {},
   "outputs": [],
   "source": [
    "def df_maker(df, col_dict, restaurant=None):\n",
    "    largest_size_list = max(len(data_list) for data_list in col_dict.values())\n",
    "    if restaurant is not None:\n",
    "        restaurant_list = np.array([restaurant for i in range(largest_size_list)])\n",
    "        df['Restaurant'] = restaurant_list\n",
    "    for col, data_list in col_dict.items():\n",
    "        flag = check_char_limit(data_list)\n",
    "        if flag == False:\n",
    "            print(\"LABEL GREATER THAN 15 CHARS\")\n",
    "            return ValueError\n",
    "        if col == 'Restaurant':\n",
    "            pass\n",
    "        size = len(data_list)\n",
    "        df[col] = ['-' for _ in range(largest_size_list)]\n",
    "        df.loc[0:size - 1, col] = data_list\n",
    "    return df\n",
    "\n",
    "# Example usage\n",
    "df1_DEL_Retail_OLO_bad = df_maker(df1_DEL_Retail_OLO_bad, {\\\n",
    "    'Retail Sauce': df1_Retail_sauce_bad,\\\n",
    "    'Retail Rice': df1_retail_rice_bad,\\\n",
    "    '1 Oz Sauces': df1_1oz_sauce_bad\n",
    "})\n"
   ]
  },
  {
   "cell_type": "code",
   "execution_count": 6,
   "metadata": {},
   "outputs": [
    {
     "data": {
      "text/html": "<div>\n<style scoped>\n    .dataframe tbody tr th:only-of-type {\n        vertical-align: middle;\n    }\n\n    .dataframe tbody tr th {\n        vertical-align: top;\n    }\n\n    .dataframe thead th {\n        text-align: right;\n    }\n</style>\n<table border=\"1\" class=\"dataframe\">\n  <thead>\n    <tr style=\"text-align: right;\">\n      <th></th>\n      <th>Retail Rice</th>\n      <th>OLO</th>\n      <th>Pint Sauces</th>\n      <th>1Oz Sauces</th>\n      <th>Restaurant</th>\n    </tr>\n  </thead>\n  <tbody>\n    <tr>\n      <th>0</th>\n      <td>Brown Rice 2 Sv</td>\n      <td>Guest Name</td>\n      <td>Garlic Sau Pnt</td>\n      <td>Avo Tar Sau 1oz</td>\n      <td>Benihana</td>\n    </tr>\n    <tr>\n      <th>1</th>\n      <td>HBR 2 Srv</td>\n      <td>Phone Number</td>\n      <td>Ginger Sau Pnt</td>\n      <td>Diablo Sau 1oz</td>\n      <td>Benihana</td>\n    </tr>\n    <tr>\n      <th>2</th>\n      <td>HBR 4 Srv</td>\n      <td>OT Order #</td>\n      <td>Hot Sau 4oz</td>\n      <td>Eel Sau 1oz</td>\n      <td>Benihana</td>\n    </tr>\n    <tr>\n      <th>3</th>\n      <td>HCR 2 Srv</td>\n      <td>OLO - Disp Fee</td>\n      <td>Mustard Sau Pnt</td>\n      <td>Garlic Sau 1oz</td>\n      <td>Benihana</td>\n    </tr>\n    <tr>\n      <th>4</th>\n      <td>HCR 4 Srv</td>\n      <td>Single Use Item</td>\n      <td>Salad Dress Pnt</td>\n      <td>Gingr Drsng 1oz</td>\n      <td>Benihana</td>\n    </tr>\n    <tr>\n      <th>5</th>\n      <td>HSR 2 Srv</td>\n      <td>-</td>\n      <td>Teri Sau Pnt</td>\n      <td>Ginger Sau 1oz</td>\n      <td>Benihana</td>\n    </tr>\n    <tr>\n      <th>6</th>\n      <td>HSR 4 Srv</td>\n      <td>-</td>\n      <td>Yum Yum Sau Pnt</td>\n      <td>Hot Sau 1oz</td>\n      <td>Benihana</td>\n    </tr>\n    <tr>\n      <th>7</th>\n      <td>Sp HBR 2 Srv</td>\n      <td>-</td>\n      <td>-</td>\n      <td>Mustard Sau 1oz</td>\n      <td>Benihana</td>\n    </tr>\n    <tr>\n      <th>8</th>\n      <td>Sp HBR 4 Srv</td>\n      <td>-</td>\n      <td>-</td>\n      <td>Sp Teri Sau 1oz</td>\n      <td>Benihana</td>\n    </tr>\n    <tr>\n      <th>9</th>\n      <td>Sp HCR 2 Srv</td>\n      <td>-</td>\n      <td>-</td>\n      <td>Sp Mayo 1oz</td>\n      <td>Benihana</td>\n    </tr>\n    <tr>\n      <th>10</th>\n      <td>Sp HCR 4 Srv</td>\n      <td>-</td>\n      <td>-</td>\n      <td>Teri Sau 1oz</td>\n      <td>Benihana</td>\n    </tr>\n    <tr>\n      <th>11</th>\n      <td>Sp HSR 2 Srv</td>\n      <td>-</td>\n      <td>-</td>\n      <td>Yum Yum Sau 1oz</td>\n      <td>Benihana</td>\n    </tr>\n    <tr>\n      <th>12</th>\n      <td>Sp HSR 4 Srv</td>\n      <td>-</td>\n      <td>-</td>\n      <td>-</td>\n      <td>Benihana</td>\n    </tr>\n    <tr>\n      <th>13</th>\n      <td>Steam Rice 2 Sv</td>\n      <td>-</td>\n      <td>-</td>\n      <td>-</td>\n      <td>Benihana</td>\n    </tr>\n    <tr>\n      <th>14</th>\n      <td>VFR 2 Srv</td>\n      <td>-</td>\n      <td>-</td>\n      <td>-</td>\n      <td>Benihana</td>\n    </tr>\n    <tr>\n      <th>15</th>\n      <td>VFR 4 Srv</td>\n      <td>-</td>\n      <td>-</td>\n      <td>-</td>\n      <td>Benihana</td>\n    </tr>\n  </tbody>\n</table>\n</div>",
      "text/plain": "        Retail Rice              OLO      Pint Sauces       1Oz Sauces  \\\n0   Brown Rice 2 Sv       Guest Name   Garlic Sau Pnt  Avo Tar Sau 1oz   \n1         HBR 2 Srv     Phone Number   Ginger Sau Pnt   Diablo Sau 1oz   \n2         HBR 4 Srv       OT Order #      Hot Sau 4oz      Eel Sau 1oz   \n3         HCR 2 Srv   OLO - Disp Fee  Mustard Sau Pnt   Garlic Sau 1oz   \n4         HCR 4 Srv  Single Use Item  Salad Dress Pnt  Gingr Drsng 1oz   \n5         HSR 2 Srv                -     Teri Sau Pnt   Ginger Sau 1oz   \n6         HSR 4 Srv                -  Yum Yum Sau Pnt      Hot Sau 1oz   \n7      Sp HBR 2 Srv                -                -  Mustard Sau 1oz   \n8      Sp HBR 4 Srv                -                -  Sp Teri Sau 1oz   \n9      Sp HCR 2 Srv                -                -      Sp Mayo 1oz   \n10     Sp HCR 4 Srv                -                -     Teri Sau 1oz   \n11     Sp HSR 2 Srv                -                -  Yum Yum Sau 1oz   \n12     Sp HSR 4 Srv                -                -                -   \n13  Steam Rice 2 Sv                -                -                -   \n14        VFR 2 Srv                -                -                -   \n15        VFR 4 Srv                -                -                -   \n\n   Restaurant  \n0    Benihana  \n1    Benihana  \n2    Benihana  \n3    Benihana  \n4    Benihana  \n5    Benihana  \n6    Benihana  \n7    Benihana  \n8    Benihana  \n9    Benihana  \n10   Benihana  \n11   Benihana  \n12   Benihana  \n13   Benihana  \n14   Benihana  \n15   Benihana  "
     },
     "execution_count": 6,
     "metadata": {},
     "output_type": "execute_result"
    }
   ],
   "source": [
    "df1_DEL_Retail_OLO_good = df_maker(df1_DEL_Retail_OLO_good, \n",
    "    {'Retail Rice':df1_retail_rice_good, \n",
    "    'OLO':df1_OLO_good, \n",
    "    \"Pint Sauces\":df1_Retail_Pintsauce_good, \n",
    "    '1Oz Sauces':df1_Retail_1oz_sauce_good},'Benihana')\n",
    "df1_DEL_Retail_OLO_good"
   ]
  },
  {
   "cell_type": "code",
   "execution_count": 7,
   "metadata": {},
   "outputs": [],
   "source": [
    "# First good menu item\n",
    "df1_DEL_Retail_OLO_good = df_maker(df1_DEL_Retail_OLO_good, \n",
    "    {'Retail Rice':df1_retail_rice_good, \n",
    "    'OLO':df1_OLO_good, \n",
    "    \"Pint Sauces\":df1_Retail_Pintsauce_good, \n",
    "    '1Oz Sauces':df1_Retail_1oz_sauce_good})\n",
    "good_menu.append(df1_DEL_Retail_OLO_good)"
   ]
  },
  {
   "cell_type": "code",
   "execution_count": 8,
   "metadata": {},
   "outputs": [],
   "source": [
    "# 2nd Menu Item\n",
    "df2_DEL_app_sides_bad = pd.DataFrame(columns=['Appetizers','Sides'])\n",
    "df2_DEL_app_sides_good = pd.DataFrame(columns=['Appetizers','Sides',\"Restaurant\"])\n",
    "\n",
    "df2_appetizer_bad = ['Chili Pnzu Ytai', 'Crsp Rce Sp Slm', 'Crsp Rce Sp Tna','Crsp Rce Sp Ytl','Edamame','Onion Rings','Gyoza Beef','Gyoza Eda Veg','Gyoza Pork','Gyoza Spicy Chk', 'Hib Short Ribs','Ribs Sampler', 'Sal Avo Sashimi','Sashimi Sampler','Seared Tuna','Spicy Eda','Sushi Sampler','Takoyaki','Tuna Pokè App','Wings Appetizer']\n",
    "df2_appetizer_good = ['Chili Pon Ytail', 'Crsp Rce Sp Slm']\n",
    "df2_appetizer_good_2nd = [i.replace(\"Spicy\",\"Sp\")  for i in df2_appetizer_bad]\n",
    "df2_appetizer_good.extend(df2_appetizer_good_2nd)\n",
    "\n",
    "# Why is there more rice here????\n",
    "\n",
    "df2_sides_bad = ['Beni Salad','Brwn Rice 1 Sv','Calamari Saute','HBR 1 Serv','HCR 1 Serv','HSR 1 Serv','Miso Soup','Mushroom','Onion','Onion Soup','Scallop Saute','Seaweed Salad','Seaweed Sal Cmb','Shrimp Saute','Shrimp Tempura','Soft Shell Crab','Sp Seaweed Sal', 'Spicy HBR 1 Sv', 'Spicy HCR 1 Srv','Spicy HSR 1 Sv','Veg FR 1 Serv','Veg Mix Saute','Veg Tempura','White Noodle','Zucchini'] # Sv/Serv->Srv, \n",
    "df2_sides_good = [i.replace(\"Sv\",\"Srv\").replace(\"Brown\",\"Brwn\").replace(\"Spicy\",\"Sp\") for i in df2_sides_bad]\n",
    "\n",
    "df2_DEL_app_sides_bad = df_maker(df2_DEL_app_sides_bad, {\n",
    "                                                        \"Appetizers\":df2_appetizer_bad,\n",
    "                                                        \"Sides\":df2_sides_bad\n",
    "                                                        })\n",
    "\n",
    "df2_DEL_app_sides_good = df_maker(df2_DEL_app_sides_good, {\n",
    "                                                        \"Appetizers\":df2_appetizer_good,\n",
    "                                                        \"Sides\":df2_sides_good\n",
    "                                                        },'Benihana')\n"
   ]
  },
  {
   "cell_type": "code",
   "execution_count": 9,
   "metadata": {},
   "outputs": [
    {
     "data": {
      "text/html": "<div>\n<style scoped>\n    .dataframe tbody tr th:only-of-type {\n        vertical-align: middle;\n    }\n\n    .dataframe tbody tr th {\n        vertical-align: top;\n    }\n\n    .dataframe thead th {\n        text-align: right;\n    }\n</style>\n<table border=\"1\" class=\"dataframe\">\n  <thead>\n    <tr style=\"text-align: right;\">\n      <th></th>\n      <th>Appetizers</th>\n      <th>Sides</th>\n      <th>Restaurant</th>\n    </tr>\n  </thead>\n  <tbody>\n    <tr>\n      <th>0</th>\n      <td>Chili Pon Ytail</td>\n      <td>Beni Salad</td>\n      <td>Benihana</td>\n    </tr>\n    <tr>\n      <th>1</th>\n      <td>Crsp Rce Sp Slm</td>\n      <td>Brwn Rice 1 Srv</td>\n      <td>Benihana</td>\n    </tr>\n    <tr>\n      <th>2</th>\n      <td>Chili Pnzu Ytai</td>\n      <td>Calamari Saute</td>\n      <td>Benihana</td>\n    </tr>\n    <tr>\n      <th>3</th>\n      <td>Crsp Rce Sp Slm</td>\n      <td>HBR 1 Serv</td>\n      <td>Benihana</td>\n    </tr>\n    <tr>\n      <th>4</th>\n      <td>Crsp Rce Sp Tna</td>\n      <td>HCR 1 Serv</td>\n      <td>Benihana</td>\n    </tr>\n    <tr>\n      <th>5</th>\n      <td>Crsp Rce Sp Ytl</td>\n      <td>HSR 1 Serv</td>\n      <td>Benihana</td>\n    </tr>\n    <tr>\n      <th>6</th>\n      <td>Edamame</td>\n      <td>Miso Soup</td>\n      <td>Benihana</td>\n    </tr>\n    <tr>\n      <th>7</th>\n      <td>Onion Rings</td>\n      <td>Mushroom</td>\n      <td>Benihana</td>\n    </tr>\n    <tr>\n      <th>8</th>\n      <td>Gyoza Beef</td>\n      <td>Onion</td>\n      <td>Benihana</td>\n    </tr>\n    <tr>\n      <th>9</th>\n      <td>Gyoza Eda Veg</td>\n      <td>Onion Soup</td>\n      <td>Benihana</td>\n    </tr>\n    <tr>\n      <th>10</th>\n      <td>Gyoza Pork</td>\n      <td>Scallop Saute</td>\n      <td>Benihana</td>\n    </tr>\n    <tr>\n      <th>11</th>\n      <td>Gyoza Sp Chk</td>\n      <td>Seaweed Salad</td>\n      <td>Benihana</td>\n    </tr>\n    <tr>\n      <th>12</th>\n      <td>Hib Short Ribs</td>\n      <td>Seaweed Sal Cmb</td>\n      <td>Benihana</td>\n    </tr>\n    <tr>\n      <th>13</th>\n      <td>Ribs Sampler</td>\n      <td>Shrimp Saute</td>\n      <td>Benihana</td>\n    </tr>\n    <tr>\n      <th>14</th>\n      <td>Sal Avo Sashimi</td>\n      <td>Shrimp Tempura</td>\n      <td>Benihana</td>\n    </tr>\n    <tr>\n      <th>15</th>\n      <td>Sashimi Sampler</td>\n      <td>Soft Shell Crab</td>\n      <td>Benihana</td>\n    </tr>\n    <tr>\n      <th>16</th>\n      <td>Seared Tuna</td>\n      <td>Sp Seaweed Sal</td>\n      <td>Benihana</td>\n    </tr>\n    <tr>\n      <th>17</th>\n      <td>Sp Eda</td>\n      <td>Sp HBR 1 Srv</td>\n      <td>Benihana</td>\n    </tr>\n    <tr>\n      <th>18</th>\n      <td>Sushi Sampler</td>\n      <td>Sp HCR 1 Srv</td>\n      <td>Benihana</td>\n    </tr>\n    <tr>\n      <th>19</th>\n      <td>Takoyaki</td>\n      <td>Sp HSR 1 Srv</td>\n      <td>Benihana</td>\n    </tr>\n    <tr>\n      <th>20</th>\n      <td>Tuna Pokè App</td>\n      <td>Veg FR 1 Serv</td>\n      <td>Benihana</td>\n    </tr>\n    <tr>\n      <th>21</th>\n      <td>Wings Appetizer</td>\n      <td>Veg Mix Saute</td>\n      <td>Benihana</td>\n    </tr>\n    <tr>\n      <th>22</th>\n      <td>-</td>\n      <td>Veg Tempura</td>\n      <td>Benihana</td>\n    </tr>\n    <tr>\n      <th>23</th>\n      <td>-</td>\n      <td>White Noodle</td>\n      <td>Benihana</td>\n    </tr>\n    <tr>\n      <th>24</th>\n      <td>-</td>\n      <td>Zucchini</td>\n      <td>Benihana</td>\n    </tr>\n  </tbody>\n</table>\n</div>",
      "text/plain": "         Appetizers            Sides Restaurant\n0   Chili Pon Ytail       Beni Salad   Benihana\n1   Crsp Rce Sp Slm  Brwn Rice 1 Srv   Benihana\n2   Chili Pnzu Ytai   Calamari Saute   Benihana\n3   Crsp Rce Sp Slm       HBR 1 Serv   Benihana\n4   Crsp Rce Sp Tna       HCR 1 Serv   Benihana\n5   Crsp Rce Sp Ytl       HSR 1 Serv   Benihana\n6           Edamame        Miso Soup   Benihana\n7       Onion Rings         Mushroom   Benihana\n8        Gyoza Beef            Onion   Benihana\n9     Gyoza Eda Veg       Onion Soup   Benihana\n10       Gyoza Pork    Scallop Saute   Benihana\n11     Gyoza Sp Chk    Seaweed Salad   Benihana\n12   Hib Short Ribs  Seaweed Sal Cmb   Benihana\n13     Ribs Sampler     Shrimp Saute   Benihana\n14  Sal Avo Sashimi   Shrimp Tempura   Benihana\n15  Sashimi Sampler  Soft Shell Crab   Benihana\n16      Seared Tuna   Sp Seaweed Sal   Benihana\n17           Sp Eda     Sp HBR 1 Srv   Benihana\n18    Sushi Sampler     Sp HCR 1 Srv   Benihana\n19         Takoyaki     Sp HSR 1 Srv   Benihana\n20    Tuna Pokè App    Veg FR 1 Serv   Benihana\n21  Wings Appetizer    Veg Mix Saute   Benihana\n22                -      Veg Tempura   Benihana\n23                -     White Noodle   Benihana\n24                -         Zucchini   Benihana"
     },
     "execution_count": 9,
     "metadata": {},
     "output_type": "execute_result"
    }
   ],
   "source": [
    "df2_DEL_app_sides_good"
   ]
  },
  {
   "cell_type": "code",
   "execution_count": 10,
   "metadata": {},
   "outputs": [],
   "source": [
    "#3rd Menu Item\n",
    "df3_DEL_lunch_bad = pd.DataFrame(columns=['Lunch',\"Rice\"])\n",
    "df3_DEL_lunch_good = pd.DataFrame(columns=['Lunch'])\n",
    "\n",
    "df3_lunch_bad = ['Boat Steak','Boat Chick','Boat Col Sh','Boat FM','Boat Salm','Beef Juli L','Filet Mignon L','Hib Chicken L','Hib Steak L','Hib Ckn Bowl','Hib Shrmp Bowl','Hib Stk Bowl','L Sushi Combo','Lunch Duet','Poke Bowl Salm','Poke Bowl Tuna','Scallops L','Spcy Hib Ch L','Yaki Chkn L','Yaki Shrimp L','Yaki Steak L']\n",
    "df3_rice_bad = ['HCR 1 Serv','Spicy HCR 1 Srv','HBR 1 Serv','HSR 1 Serv','Veg FR 1 Serv']\n",
    "\n",
    "df3_lunch_good = [i.replace(\"Chicken\",\"Ckn\").replace(\"Chick\",'Ckn').replace(\"Salmon\",'Slm').replace(\"Steak\",\"Stk\").replace(\"Lunch\",\"L\").replace(\"Shrimp\",\"Shr\").replace(\"Spcy\",\"Sp\").replace(\"Chkn\",\"Ckn\") for i in df3_lunch_bad]\n",
    "df3_rice_good = [i.replace(\"Serv\",\"Srv\").replace(\"Spicy\",\"Sp\").replace(\"Veg FR\",\"VFR\") for i in df3_rice_bad]\n",
    "\n",
    "df3_DEL_lunch_bad = df_maker(df3_DEL_lunch_bad, {\"Lunch\":df3_lunch_bad, \"Rice\":df3_rice_bad})\n",
    "df3_lunch_good.extend(df3_rice_good)\n",
    "df3_DEL_lunch_good = df_maker(df3_DEL_lunch_good, {\"Lunch\":df3_lunch_good},'Benihana')"
   ]
  },
  {
   "cell_type": "code",
   "execution_count": 11,
   "metadata": {},
   "outputs": [
    {
     "data": {
      "text/html": "<div>\n<style scoped>\n    .dataframe tbody tr th:only-of-type {\n        vertical-align: middle;\n    }\n\n    .dataframe tbody tr th {\n        vertical-align: top;\n    }\n\n    .dataframe thead th {\n        text-align: right;\n    }\n</style>\n<table border=\"1\" class=\"dataframe\">\n  <thead>\n    <tr style=\"text-align: right;\">\n      <th></th>\n      <th>Lunch</th>\n      <th>Restaurant</th>\n    </tr>\n  </thead>\n  <tbody>\n    <tr>\n      <th>0</th>\n      <td>Boat Stk</td>\n      <td>Benihana</td>\n    </tr>\n    <tr>\n      <th>1</th>\n      <td>Boat Ckn</td>\n      <td>Benihana</td>\n    </tr>\n    <tr>\n      <th>2</th>\n      <td>Boat Col Sh</td>\n      <td>Benihana</td>\n    </tr>\n    <tr>\n      <th>3</th>\n      <td>Boat FM</td>\n      <td>Benihana</td>\n    </tr>\n    <tr>\n      <th>4</th>\n      <td>Boat Salm</td>\n      <td>Benihana</td>\n    </tr>\n    <tr>\n      <th>5</th>\n      <td>Beef Juli L</td>\n      <td>Benihana</td>\n    </tr>\n    <tr>\n      <th>6</th>\n      <td>Filet Mignon L</td>\n      <td>Benihana</td>\n    </tr>\n    <tr>\n      <th>7</th>\n      <td>Hib Ckn L</td>\n      <td>Benihana</td>\n    </tr>\n    <tr>\n      <th>8</th>\n      <td>Hib Stk L</td>\n      <td>Benihana</td>\n    </tr>\n    <tr>\n      <th>9</th>\n      <td>Hib Ckn Bowl</td>\n      <td>Benihana</td>\n    </tr>\n    <tr>\n      <th>10</th>\n      <td>Hib Shrmp Bowl</td>\n      <td>Benihana</td>\n    </tr>\n    <tr>\n      <th>11</th>\n      <td>Hib Stk Bowl</td>\n      <td>Benihana</td>\n    </tr>\n    <tr>\n      <th>12</th>\n      <td>L Sushi Combo</td>\n      <td>Benihana</td>\n    </tr>\n    <tr>\n      <th>13</th>\n      <td>L Duet</td>\n      <td>Benihana</td>\n    </tr>\n    <tr>\n      <th>14</th>\n      <td>Poke Bowl Salm</td>\n      <td>Benihana</td>\n    </tr>\n    <tr>\n      <th>15</th>\n      <td>Poke Bowl Tuna</td>\n      <td>Benihana</td>\n    </tr>\n    <tr>\n      <th>16</th>\n      <td>Scallops L</td>\n      <td>Benihana</td>\n    </tr>\n    <tr>\n      <th>17</th>\n      <td>Sp Hib Ch L</td>\n      <td>Benihana</td>\n    </tr>\n    <tr>\n      <th>18</th>\n      <td>Yaki Ckn L</td>\n      <td>Benihana</td>\n    </tr>\n    <tr>\n      <th>19</th>\n      <td>Yaki Shr L</td>\n      <td>Benihana</td>\n    </tr>\n    <tr>\n      <th>20</th>\n      <td>Yaki Stk L</td>\n      <td>Benihana</td>\n    </tr>\n    <tr>\n      <th>21</th>\n      <td>HCR 1 Srv</td>\n      <td>Benihana</td>\n    </tr>\n    <tr>\n      <th>22</th>\n      <td>Sp HCR 1 Srv</td>\n      <td>Benihana</td>\n    </tr>\n    <tr>\n      <th>23</th>\n      <td>HBR 1 Srv</td>\n      <td>Benihana</td>\n    </tr>\n    <tr>\n      <th>24</th>\n      <td>HSR 1 Srv</td>\n      <td>Benihana</td>\n    </tr>\n    <tr>\n      <th>25</th>\n      <td>VFR 1 Srv</td>\n      <td>Benihana</td>\n    </tr>\n  </tbody>\n</table>\n</div>",
      "text/plain": "             Lunch Restaurant\n0         Boat Stk   Benihana\n1         Boat Ckn   Benihana\n2      Boat Col Sh   Benihana\n3          Boat FM   Benihana\n4        Boat Salm   Benihana\n5      Beef Juli L   Benihana\n6   Filet Mignon L   Benihana\n7        Hib Ckn L   Benihana\n8        Hib Stk L   Benihana\n9     Hib Ckn Bowl   Benihana\n10  Hib Shrmp Bowl   Benihana\n11    Hib Stk Bowl   Benihana\n12   L Sushi Combo   Benihana\n13          L Duet   Benihana\n14  Poke Bowl Salm   Benihana\n15  Poke Bowl Tuna   Benihana\n16      Scallops L   Benihana\n17     Sp Hib Ch L   Benihana\n18      Yaki Ckn L   Benihana\n19      Yaki Shr L   Benihana\n20      Yaki Stk L   Benihana\n21       HCR 1 Srv   Benihana\n22    Sp HCR 1 Srv   Benihana\n23       HBR 1 Srv   Benihana\n24       HSR 1 Srv   Benihana\n25       VFR 1 Srv   Benihana"
     },
     "execution_count": 11,
     "metadata": {},
     "output_type": "execute_result"
    }
   ],
   "source": [
    "df3_DEL_lunch_good"
   ]
  },
  {
   "cell_type": "code",
   "execution_count": 12,
   "metadata": {},
   "outputs": [],
   "source": [
    "df4_DEL_sroll_kids_bad = pd.DataFrame(columns=['Sushi Roll','Kids Menu'])\n",
    "df4_DEL_sroll_kids_good = pd.DataFrame(columns=['Sushi Roll','Kids Menu'])"
   ]
  },
  {
   "cell_type": "code",
   "execution_count": 13,
   "metadata": {},
   "outputs": [],
   "source": [
    "df4_sroll_bad = [\"Alaskan Roll\",\"Cali Roll\",'Chili Shmp Roll','Cucumber Roll','Dragon Roll','Eel Roll','Gojira Roll','Las Vegas Roll','Lobster Roll','Philly Roll','Rainbow Roll','Salmon Roll','Salmon Avo RL','Shr Temp Roll','Sp Lotus RL','Sp Salmon Roll', 'Spider Roll','Sumo Roll','Tuna Roll','YellowTail Roll','Vegetable Roll']\n",
    "df4_kids_bad = ['Kid Cali Roll','Kid Chicken','Kid Ckn Temp','Kid Ckn Tender','Kids Eda','Kid FM','Kid FM & Chk','Kid FM & Shrimp','Kid HCR 1 Serv','Kid Ndle Side','Kid Shrimp','Kid Steak','Kid Sh & Ch','Kid St & Ch','Kid St & Sh']\n",
    "\n",
    "df4_sroll_good = [i.replace(\"Salmon\",\"Slm\").replace(\"RL\",\"Roll\").replace(\"YellowTail\",\"YTail\").replace(\"Shmp\",\"Shr\") for i in df4_sroll_bad ]\n",
    "df4_kids_good = [i.replace(\"Chicken\",'Ckn').replace(\"Eda\",\"Edamame\").replace(\"Steak\",'Stk').replace(\"Shrimp\",\"Shr\").replace(\"Sh\",\"Shr\").replace(\"St\",\"Stk\").replace(\"Ch\",'Ckn').replace(\"Serv\",'Srv')   for i in df4_kids_bad]\n",
    "\n"
   ]
  },
  {
   "cell_type": "code",
   "execution_count": 14,
   "metadata": {},
   "outputs": [],
   "source": [
    "df4_DEL_sroll_kids_bad =  df_maker(df4_DEL_sroll_kids_bad, {\"Sushi Roll\": df4_sroll_bad, \"Kids Menu\": df4_kids_bad })\n",
    "df4_DEL_sroll_kids_good = df_maker(df4_DEL_sroll_kids_good,{\"Sushi Roll\": df4_sroll_good, \"Kids Menu\": df4_kids_good},'Benihana' )"
   ]
  },
  {
   "cell_type": "code",
   "execution_count": 15,
   "metadata": {},
   "outputs": [
    {
     "data": {
      "text/html": "<div>\n<style scoped>\n    .dataframe tbody tr th:only-of-type {\n        vertical-align: middle;\n    }\n\n    .dataframe tbody tr th {\n        vertical-align: top;\n    }\n\n    .dataframe thead th {\n        text-align: right;\n    }\n</style>\n<table border=\"1\" class=\"dataframe\">\n  <thead>\n    <tr style=\"text-align: right;\">\n      <th></th>\n      <th>Sushi Roll</th>\n      <th>Kids Menu</th>\n      <th>Restaurant</th>\n    </tr>\n  </thead>\n  <tbody>\n    <tr>\n      <th>0</th>\n      <td>Alaskan Roll</td>\n      <td>Kid Cali Roll</td>\n      <td>Benihana</td>\n    </tr>\n    <tr>\n      <th>1</th>\n      <td>Cali Roll</td>\n      <td>Kid Ckn</td>\n      <td>Benihana</td>\n    </tr>\n    <tr>\n      <th>2</th>\n      <td>Chili Shr Roll</td>\n      <td>Kid Ckn Temp</td>\n      <td>Benihana</td>\n    </tr>\n    <tr>\n      <th>3</th>\n      <td>Cucumber Roll</td>\n      <td>Kid Ckn Tender</td>\n      <td>Benihana</td>\n    </tr>\n    <tr>\n      <th>4</th>\n      <td>Dragon Roll</td>\n      <td>Kids Edamame</td>\n      <td>Benihana</td>\n    </tr>\n    <tr>\n      <th>5</th>\n      <td>Eel Roll</td>\n      <td>Kid FM</td>\n      <td>Benihana</td>\n    </tr>\n    <tr>\n      <th>6</th>\n      <td>Gojira Roll</td>\n      <td>Kid FM &amp; Cknk</td>\n      <td>Benihana</td>\n    </tr>\n    <tr>\n      <th>7</th>\n      <td>Las Vegas Roll</td>\n      <td>Kid FM &amp; Shrr</td>\n      <td>Benihana</td>\n    </tr>\n    <tr>\n      <th>8</th>\n      <td>Lobster Roll</td>\n      <td>Kid HCR 1 Srv</td>\n      <td>Benihana</td>\n    </tr>\n    <tr>\n      <th>9</th>\n      <td>Philly Roll</td>\n      <td>Kid Ndle Side</td>\n      <td>Benihana</td>\n    </tr>\n    <tr>\n      <th>10</th>\n      <td>Rainbow Roll</td>\n      <td>Kid Shrr</td>\n      <td>Benihana</td>\n    </tr>\n    <tr>\n      <th>11</th>\n      <td>Slm Roll</td>\n      <td>Kid Stkk</td>\n      <td>Benihana</td>\n    </tr>\n    <tr>\n      <th>12</th>\n      <td>Slm Avo Roll</td>\n      <td>Kid Shr &amp; Ckn</td>\n      <td>Benihana</td>\n    </tr>\n    <tr>\n      <th>13</th>\n      <td>Shr Temp Roll</td>\n      <td>Kid Stk &amp; Ckn</td>\n      <td>Benihana</td>\n    </tr>\n    <tr>\n      <th>14</th>\n      <td>Sp Lotus Roll</td>\n      <td>Kid Stk &amp; Shr</td>\n      <td>Benihana</td>\n    </tr>\n    <tr>\n      <th>15</th>\n      <td>Sp Slm Roll</td>\n      <td>-</td>\n      <td>Benihana</td>\n    </tr>\n    <tr>\n      <th>16</th>\n      <td>Spider Roll</td>\n      <td>-</td>\n      <td>Benihana</td>\n    </tr>\n    <tr>\n      <th>17</th>\n      <td>Sumo Roll</td>\n      <td>-</td>\n      <td>Benihana</td>\n    </tr>\n    <tr>\n      <th>18</th>\n      <td>Tuna Roll</td>\n      <td>-</td>\n      <td>Benihana</td>\n    </tr>\n    <tr>\n      <th>19</th>\n      <td>YTail Roll</td>\n      <td>-</td>\n      <td>Benihana</td>\n    </tr>\n    <tr>\n      <th>20</th>\n      <td>Vegetable Roll</td>\n      <td>-</td>\n      <td>Benihana</td>\n    </tr>\n  </tbody>\n</table>\n</div>",
      "text/plain": "        Sushi Roll       Kids Menu Restaurant\n0     Alaskan Roll   Kid Cali Roll   Benihana\n1        Cali Roll         Kid Ckn   Benihana\n2   Chili Shr Roll    Kid Ckn Temp   Benihana\n3    Cucumber Roll  Kid Ckn Tender   Benihana\n4      Dragon Roll    Kids Edamame   Benihana\n5         Eel Roll          Kid FM   Benihana\n6      Gojira Roll   Kid FM & Cknk   Benihana\n7   Las Vegas Roll   Kid FM & Shrr   Benihana\n8     Lobster Roll   Kid HCR 1 Srv   Benihana\n9      Philly Roll   Kid Ndle Side   Benihana\n10    Rainbow Roll        Kid Shrr   Benihana\n11        Slm Roll        Kid Stkk   Benihana\n12    Slm Avo Roll   Kid Shr & Ckn   Benihana\n13   Shr Temp Roll   Kid Stk & Ckn   Benihana\n14   Sp Lotus Roll   Kid Stk & Shr   Benihana\n15     Sp Slm Roll               -   Benihana\n16     Spider Roll               -   Benihana\n17       Sumo Roll               -   Benihana\n18       Tuna Roll               -   Benihana\n19      YTail Roll               -   Benihana\n20  Vegetable Roll               -   Benihana"
     },
     "execution_count": 15,
     "metadata": {},
     "output_type": "execute_result"
    }
   ],
   "source": [
    "df4_DEL_sroll_kids_good"
   ]
  },
  {
   "cell_type": "code",
   "execution_count": 16,
   "metadata": {},
   "outputs": [],
   "source": [
    "df5_DEL_susa_bad = pd.DataFrame(columns=['Sushi','Sashimi'])\n",
    "df5_DEL_susa_good = pd.DataFrame(columns=['Sushi','Sashimi'])\n",
    "\n",
    "df5_sushi_bad = ['Albacore Sushi','Eel Sushi','Egg Sushi','Krabstck Sushi','Octopus Sushi','Salmon Sushi','Shrimp Sushi','Smelt Roe Sushi','Smkd Salm Sushi','Snapper Sushi','Tuna Sushi','YlwTail Sushi']\n",
    "df5_sashi_bad = ['Alb Tuna Sashim','Eel Sashimi','Egg Sashimi','Krabstk Sashimi','Octopus Sashimi','Shrimp Sashimi','Salm Roe Sashi','Smkd Salm Sashi','Snapper Sashimi','Tuna Sashimi', 'YellowTail Sash']\n",
    "\n",
    "df5_sushi_good = [i.replace(\"Albacore\",'Alb Tna').replace(\"Salmon\",'Slm').replace(\"Salm\",\"Slm\").replace(\"Shrimp\",\"Shr\").replace(\"Tuna\",\"Tna\").replace(\"YlwTail\",\"YTail\") for i in df5_sushi_bad]\n",
    "df5_sashi_good = [i.replace(\"Tuna\",\"Tna\").replace(\"Shrimp\",\"Shr\").replace(\"Sashimi\",\"Sash\").replace(\"Sashim\",\"Sash\").replace(\"YellowTail\",\"YTail\") for i in df5_sashi_bad]\n",
    "\n",
    "df5_DEL_susa_bad =  df_maker(df5_DEL_susa_bad , {\"Sushi\": df5_sushi_bad,\"Sashimi\": df5_sashi_bad})\n",
    "df5_DEL_susa_good = df_maker( df5_DEL_susa_good, {\"Sushi\": df5_sushi_good ,\"Sashimi\":df5_sashi_good},\"Benihana\")"
   ]
  },
  {
   "cell_type": "code",
   "execution_count": 17,
   "metadata": {},
   "outputs": [],
   "source": [
    "df6_DEL_entree_bad = pd.DataFrame(columns=['Meat','Seafood','Specialties','Sushi Entree'])\n",
    "df6_DEL_entree_good = pd.DataFrame(columns=['DEL Ent Meat','Seafood','Specialties','Sushi Entree'])\n",
    "\n",
    "df6_meat_bad = ['Chateaubriand','Filet Mignon','Hib Chicken','Hib Ribeye','Hibachi Steak','Spicy Hib Chk','Teriyaki Chk','Teri Steak']\n",
    "df6_seafood_bad = ['Hib Col Shrmp','Hib Scallops','Hib Shrimp',\"Hib Tuna Stk\",'Ocean Treasure',\"Sal Avo Tartar\",'Sp Hib Shrimp','Surf Side','Twin Lob Tails',\"HCR 1 Serv\"] #Rice bc why??\n",
    "df6_specialties_bad = ['Beni Delight','Beni Excellence','Beni Special','Benihana Trio','Deluxe Treat','Emperor Feast','Hib Supreme','Land & Sea','R Ch Sk & Chk','Ribeye & Ckn','Ribeye & Col Sh','Ribeye & Lob','Ribeye & Scal','Samurai Treat','Splash & Meadow']\n",
    "df6_sentree_bad = ['Chirashi Entree','Sashimi Assort','Nigiri Assort','Sushi Deluxe']\n",
    "\n",
    "df6_meat_good = [i.replace(\"Chicken\",\"Ckn\").replace(\"Hibachi\",'Hib').replace(\"Spicy\",\"Sp\").replace(\"Teriyaki\",\"Teri\").replace(\"Steak\",\"Stk\") for i in df6_meat_bad]\n",
    "df6_seafood_good = [i.replace(\"Shrmp\",\"Shr\").replace(\"Shrimp\",\"Shr\").replace(\"Serv\",\"Srv\").replace(\"Sal\",\"Slm\") for i in df6_seafood_bad] \n",
    "df6_specialties_good = [i.replace(\"Benihana\",\"Beni\").replace(\"R Ch Sk & Chk\",\"Rocky's Choice\").replace(\"Ribeye\",\"Rbeye\").replace(\"Sh\",\"Shr\") for i in df6_specialties_bad]\n",
    "\n",
    "df6_DEL_entree_bad  = df_maker(df6_DEL_entree_bad, {\"Meat\":df6_meat_bad ,\"Seafood\":df6_seafood_bad ,\"Specialties\":df6_specialties_bad ,\"Sushi Entree\":df6_sentree_bad })\n",
    "df6_DEL_entree_good = df_maker(df6_DEL_entree_good, {\"Meat\":df6_meat_good ,\"Seafood\": df6_seafood_good,\"Specialties\": df6_specialties_good,\"Sushi Entree\":df6_sentree_bad },'Benihana')"
   ]
  },
  {
   "cell_type": "markdown",
   "metadata": {},
   "source": []
  },
  {
   "cell_type": "code",
   "execution_count": 18,
   "metadata": {},
   "outputs": [],
   "source": [
    "df7_DEL_fam_bad = pd.DataFrame(columns=['For 2','For 4','For 6','Boxes'])\n",
    "df7_DEL_fam_good = pd.DataFrame(columns=['For 2','For 4','For 6','Boxes'])\n",
    "\n",
    "df7_for2_bad = ['Ckn & Shp for 2','FM w/Gar Sau 2','FM & Scallops 2','GAR FM/Sp Shp 2','Sp Shrmp for 2','Stk & Ckn for 2','Stk & Shp for 2','Sushi for 2','Wings & HCR 2', 'Wings for 2']\n",
    "df7_for4_bad = ['Ckn & Shp for 4','FM w/Gar Sau 4','FM & Scallops 4','GAR FM/Sp Shp 4','Sp Shrmp for 4','Stk & Ckn for 4','Stk & Shp for 2','Sushi for 4','Wings & HCR 4', 'Wings for 4']\n",
    "df7_for6_bad = ['Ckn & Shp for 6','FM w/Gar Sau 6','FM & Scallops 6','GAR FM/Sp Shp 6','Sp Shrmp for 6','Stk & Ckn for 6','Stk & Shp for 2','Sushi for 6','Wings & HCR 6', 'Wings for 6']\n",
    "df7_boxes = ['Appetizer Box','Box Din for 2']\n",
    "\n",
    "df7_for2_good = [i.replace(\"for \",'').replace(\"Shp\",\"Shr\").replace(\"Shrmp\",\"Shr\") for i in df7_for2_bad]\n",
    "df7_for4_good = [i.replace(\"for \",'').replace(\"Shp\",\"Shr\").replace(\"Shrmp\",\"Shr\") for i in df7_for4_bad]\n",
    "df7_for6_good = [i.replace(\"for \",'').replace(\"Shp\",\"Shr\").replace(\"Shrmp\",\"Shr\") for i in df7_for6_bad]\n",
    "\n",
    "df7_DEL_fam_bad  = df_maker(df7_DEL_fam_bad ,  {\"For 2\": df7_for2_bad, \"For 4\": df7_for4_bad,\"For 6\": df7_for6_bad, \"Boxes\": df7_boxes})\n",
    "df7_DEL_fam_good = df_maker(df7_DEL_fam_good , {\"For 2\": df7_for2_good, \"For 4\": df7_for4_good,\"For 6\": df7_for6_good, \"Boxes\": df7_boxes},'Benihana')"
   ]
  },
  {
   "cell_type": "code",
   "execution_count": 19,
   "metadata": {},
   "outputs": [],
   "source": [
    "df8_DEL_ndles_veg_ramen_bad  = pd.DataFrame(columns=['Noodle/Veg','Ramen'])\n",
    "df8_DEL_ndles_veg_ramen_good = pd.DataFrame(columns=['Noodle/Veg','Ramen'])\n",
    "\n",
    "df8_noodle_veg_bad = ['Seafood Diablo','Spcy Tofu Stk','Yaki Chicken','Yaki Shrimp','Yaki Steak','Yaki Trio']\n",
    "df8_ramen_bad = ['RAMEN Chashu','RAMEN Miso',\"RAMEN Rocky's\",'RAMEN Sp Ch Gar','RAMEN Tonkotsu']\n",
    "\n",
    "df8_noodle_veg_good = [i.replace(\"Spcy\",'Sp').replace(\"Chicken\",'Ckn').replace(\"Shrimp\",'Shr').replace(\"Steak\",'Stk') for i in df8_noodle_veg_bad]\n",
    "df8_ramen_good = [\"\".join(i.split(\" \")[1:] +[\" \"]+[i.split(\" \")[0]]).replace(\"RAMEN\",\"Ramen\").replace(\"Ch\",\"Ckn\") for i in df8_ramen_bad]\n",
    "\n",
    "df8_DEL_ndles_veg_ramen_bad = df_maker(df8_DEL_ndles_veg_ramen_bad, {\"Noodle/Veg\":df8_noodle_veg_bad,\"Ramen\":df8_ramen_bad})\n",
    "df8_DEL_ndles_veg_ramen_good = df_maker(df8_DEL_ndles_veg_ramen_good, {\"Noodle/Veg\":df8_noodle_veg_good,\"Ramen\":df8_ramen_good},'Benihana')"
   ]
  },
  {
   "cell_type": "code",
   "execution_count": 20,
   "metadata": {},
   "outputs": [],
   "source": [
    "df9_DEL_bev_dessert_bad  = pd.DataFrame(columns=['Soda Cans','Bottled Water','NA Bev','16 Oz Drinks','1/2 Gal Bags','Mochi','Cake'])\n",
    "df9_DEL_bev_dessert_good = pd.DataFrame(columns=['Soda Cans','Bottled Water','NA Bev','16 Oz Drinks','1/2 Gal Bags','Mochi','Cake'])\n",
    "\n",
    "df9_soda = ['Pepsi Can','Diet Pepsi Can','Mist Twist Can','Mountin Dew Can']\n",
    "df9_water = ['Acqua Pna 500ML','San Pellegrino']\n",
    "df9_NAbev = ['Red Bull','SF Red Bull','Tropi Red Bull','Ramune','Stwberry Ramune','Grape Ramune','IBC Root Beer','Betty Buzz LL','NA Blue Bonsai']\n",
    "df9_16oz = ['Ben Bry Smothie','Ben Lmnd Mango','Ben Lmnd Pas Ft','Ben Lmnd Strwby','Ben Mkske Co/Cm','Ben Mkske Strwb','Mango Colada','Strwbr Pas Dlgt']\n",
    "df9_half_gal = ['Ben Lemon bag','Ben Rasp Lem','Ben Mngo Lem','Ben Rasp Lem','Ben Strw Lem','Ben PsFr Lem','Iced Tea Bag']\n",
    "df9_mochi = ['Mochi Combo','Mochi Green Tea','Mochi Mango','Mochi Strawbery']\n",
    "df9_cake = ['Chocolate Cake','Chscake Traditn']\n",
    "df9_cake_good = [i.replace(\"Chscake Traditn\",'Cheesecake') for i in df9_cake]\n",
    "\n",
    "df9_NAbev_good = [i.replace(\"Stwberry\",'Strwb') for i in df9_NAbev]\n",
    "df9_16oz_good = [i.replace(\"Mango\",\"Mngo\").replace(\"Strby\",'Strwb').replace(\"Strwbr\",'Strwb') for i in df9_16oz]\n",
    "df9_half_gal_good = [i.replace(\"Lemon bag\",'Lem Bag') for i in df9_half_gal]\n",
    "\n",
    "df9_DEL_bev_dessert_bad = df_maker(df9_DEL_bev_dessert_bad,   {\"Soda Cans\": df9_soda,\"Bottled Water\":df9_water,\"NA Bev\":df9_NAbev , \"16 Oz Drinks\": df9_16oz,'1/2 Gal Bags': df9_half_gal,'Mochi': df9_mochi,'Cake':df9_cake })\n",
    "df9_DEL_bev_dessert_good = df_maker(df9_DEL_bev_dessert_good, {\"Soda Cans\": df9_soda,\"Bottled Water\":df9_water,\"NA Bev\":df9_NAbev_good , \"16 Oz Drinks\": df9_16oz_good,'1/2 Gal Bags': df9_half_gal_good,'Mochi': df9_mochi,'Cake':df9_cake_good }, \"Benihana\")"
   ]
  },
  {
   "cell_type": "code",
   "execution_count": 21,
   "metadata": {},
   "outputs": [],
   "source": [
    "df10_DEL_cktl_bad =  pd.DataFrame(columns=['1/2 Gal Bags','Cocktails','Cocktls for 2','Frozen','Kits'])\n",
    "df10_DEL_cktl_good = pd.DataFrame(columns=['1/2 Gal Bags','Cocktails','Cocktls for 2','Frozen','Kits'])\n",
    "\n",
    "df10_half_gal_bad = ['Ben Pnch 1/2gal','Mai Tai 1/2 gal','Bl Ocn Pnh1/2gl','Yuzu Marg 1/2gl','PrkPr Marg1/2gl','Hurr Pnch 1/2gl','WtPch Sng 1/2gl','RdPlm Sng 1/2gl']\n",
    "df10_cocktail_bad = ['Ben Punch for 1','Mai Tai for 1','Bl Ocn Pn for 1','Yuzu Marg for 1','Pk Pr Mrg for 1','Hurr Pnch for 1','W Pch Sng for 1','R Plm Sng for 1']\n",
    "df10_cocktail_for2_bad = ['Ben Punch for 2','Mai Tai for 2','Bl Ocn Pn for 2','Yuzu Marg for 2','Pk Pr Mrg for 2','Hurr Pnch for 2','W Pch Sng for 2','R Plm Sng for 2']\n",
    "df10_frz = ['Frozen Mojito','Haiku Colada']\n",
    "df10_kits = ['Beni Mule Kit','Bellini Kit','Mimosa Kit']\n",
    "\n",
    "df10_half_gal_good = [i.replace(\"Pnh\",\"Pch\").replace(\"1/2gal\",'1/2 gl').replace(\"1/2 gal\",\"1/2 gl\").replace(\"RdPlm\",'R Plm').replace(\"Marg\",'Mrg ').replace(\"for \",\"\").replace(\"Pnch\",'Pch').replace(\"Pn\",'Pch').replace(\"1/2 gl\",'1/2gl') for i in df10_half_gal_bad]\n",
    "df10_cocktail_good = [i.replace(\"Punch\",\"Pch\").replace(\"for \",\"\").replace(\"Pnch\",'Pch').replace(\"Marg\",'Mrg').replace(\"Pn\",\"Pch\") for i in df10_cocktail_bad]\n",
    "df10_cocktail_for2_good = [i.replace(\"Punch\",\"Pch\").replace(\"for \",\"\").replace(\"Pnch\",'Pch').replace(\"Marg\",'Mrg').replace(\"Pn\",\"Pch\") for i in df10_cocktail_for2_bad]\n",
    "\n",
    "df10_DEL_cktl_bad  = df_maker(df10_DEL_cktl_bad, {'1/2 Gal Bags': df10_half_gal_bad,'Cocktails':df10_cocktail_bad,'Cocktls for 2':df10_cocktail_for2_bad,'Frozen':df10_frz,'Kits':df10_kits})\n",
    "df10_DEL_cktl_good = df_maker(df10_DEL_cktl_good, {'1/2 Gal Bags': df10_half_gal_good,'Cocktails':df10_cocktail_good,'Cocktls for 2':df10_cocktail_for2_good,'Frozen':df10_frz,'Kits':df10_kits},'Benihana')"
   ]
  },
  {
   "cell_type": "code",
   "execution_count": 22,
   "metadata": {},
   "outputs": [],
   "source": [
    "df11_br_sake_wine_bad = pd.DataFrame(columns=['Large Beers','12 Oz Beers','Bombers','Hard Seltzer','Sake','Wine'])\n",
    "df11_br_sake_wine_good = pd.DataFrame(columns=['Large Beers','12 Oz Beers','Bombers','Hard Seltzer','Sake','Wine'])\n",
    "\n",
    "df11_Lbeer = ['Asahi 22Oz','Sapporo 22Oz','Kirin 22Oz']\n",
    "df11_12oz_beer = ['Asahi 12Oz','Kirin Light 12', 'Corona','Michelob Ultra']\n",
    "df11_hseltzer = ['Hi-Noon Grpfrt']\n",
    "df11_bombers = ['Kir22/SCB Ginjo','Kir 22/SCBNigoi','Kir22/TYKU Ske']\n",
    "df11_sake = ['Beni SE 330ml','Hana Apple Btl','Hana Lychee Btl','Mio Sprkln300ml','Sh Ch Gij 300ml','Sh Ch Ngo 375ml','TYKU Coco 330ml','TYKU Cucu 330ml','Tyku Cucmbr Can']\n",
    "df11_wine = ['14 Hands Btl','Coppola PG Btl','Kim Crwfrd SB','KJ Chard Btl','La Crema PN Btl','Lamarca 187 Btl','Martini Cab Btl','Plum Wine Btl']\n",
    "\n",
    "df11_bombers_good = [i.replace(\" 22/SCB\",'22/SCB ') for i in df11_bombers]\n",
    "df11_sake_good = [i.replace(\"tyku\",'TYKU').replace(\"Cucmbr\",\"Cucu\") for i in df11_sake]\n",
    "\n",
    "df11_br_sake_wine_bad =  df_maker(df11_br_sake_wine_good, {'Large Beers':df11_Lbeer,'12 Oz Beers':df11_12oz_beer,'Bombers':df11_bombers,'Hard Seltzer':df11_hseltzer,'Sake':df11_sake,'Wine':df11_wine })\n",
    "df11_br_sake_wine_good = df_maker(df11_br_sake_wine_good, {'Large Beers':df11_Lbeer,'12 Oz Beers':df11_12oz_beer,'Bombers':df11_bombers_good,'Hard Seltzer':df11_hseltzer,'Sake':df11_sake_good,'Wine':df11_wine },'Benihana')\n"
   ]
  },
  {
   "cell_type": "code",
   "execution_count": 23,
   "metadata": {},
   "outputs": [],
   "source": [
    "df12_specials_bad =  pd.DataFrame(columns=['Cocktails','Cocktls for 2','1/2 Gal Bags'])\n",
    "df12_specials_good = pd.DataFrame(columns=['Cocktails','Cocktls for 2','1/2 Gal Bags','Single Use'])\n",
    "\n",
    "df12_ctails = ['Merry Marg 1srv']\n",
    "df12_ctails_for2 = ['Merry Marg 2srv']\n",
    "df12_half_gal = ['Merry Marg 1/2g']\n",
    "df12_single_use = ['Single Use Item','Stx & Cutlery','Soy Sauce Reg','Soy Sauce Low','Soy Sauce GF']\n",
    "\n",
    "df12_half_gal.extend(df12_single_use)\n",
    "df12_ctails_good = [i.replace(\"Marg\",\"Mrg\").replace(\"1srv\",'1') for i in df12_ctails]\n",
    "df12_ctails_for2_good = [i.replace(\"Marg\",\"Mrg\").replace(\"2srv\",'2') for i in df12_ctails_for2]\n",
    "df12_half_gal_good = [i.replace(\"Marg\",\"Mrg\").replace(\"1/2g\",'1/2gl') if i not in df12_single_use else \"-\" for i in df12_half_gal]\n",
    "\n",
    "df12_specials_bad  = df_maker(df12_specials_bad, {'Cocktails':df12_ctails,'Cocktls for 2':df12_ctails_for2,'1/2 Gal Bags':df12_half_gal})\n",
    "df12_specials_good = df_maker(df12_specials_good, {'Cocktails':df12_ctails_good,'Cocktls for 2':df12_ctails_for2_good,'1/2 Gal Bags':df12_half_gal_good,\"Single Use\":df12_single_use},'Benihana')"
   ]
  },
  {
   "cell_type": "code",
   "execution_count": 24,
   "metadata": {},
   "outputs": [
    {
     "data": {
      "text/html": "<div>\n<style scoped>\n    .dataframe tbody tr th:only-of-type {\n        vertical-align: middle;\n    }\n\n    .dataframe tbody tr th {\n        vertical-align: top;\n    }\n\n    .dataframe thead th {\n        text-align: right;\n    }\n</style>\n<table border=\"1\" class=\"dataframe\">\n  <thead>\n    <tr style=\"text-align: right;\">\n      <th></th>\n      <th>Appetizers</th>\n      <th>Sides</th>\n      <th>Restaurant</th>\n    </tr>\n  </thead>\n  <tbody>\n    <tr>\n      <th>0</th>\n      <td>Chili Pon Ytail</td>\n      <td>Beni Salad</td>\n      <td>Benihana</td>\n    </tr>\n    <tr>\n      <th>1</th>\n      <td>Crsp Rce Sp Slm</td>\n      <td>Brwn Rice 1 Srv</td>\n      <td>Benihana</td>\n    </tr>\n    <tr>\n      <th>2</th>\n      <td>Chili Pnzu Ytai</td>\n      <td>Calamari Saute</td>\n      <td>Benihana</td>\n    </tr>\n    <tr>\n      <th>3</th>\n      <td>Crsp Rce Sp Slm</td>\n      <td>HBR 1 Serv</td>\n      <td>Benihana</td>\n    </tr>\n    <tr>\n      <th>4</th>\n      <td>Crsp Rce Sp Tna</td>\n      <td>HCR 1 Serv</td>\n      <td>Benihana</td>\n    </tr>\n    <tr>\n      <th>5</th>\n      <td>Crsp Rce Sp Ytl</td>\n      <td>HSR 1 Serv</td>\n      <td>Benihana</td>\n    </tr>\n    <tr>\n      <th>6</th>\n      <td>Edamame</td>\n      <td>Miso Soup</td>\n      <td>Benihana</td>\n    </tr>\n    <tr>\n      <th>7</th>\n      <td>Onion Rings</td>\n      <td>Mushroom</td>\n      <td>Benihana</td>\n    </tr>\n    <tr>\n      <th>8</th>\n      <td>Gyoza Beef</td>\n      <td>Onion</td>\n      <td>Benihana</td>\n    </tr>\n    <tr>\n      <th>9</th>\n      <td>Gyoza Eda Veg</td>\n      <td>Onion Soup</td>\n      <td>Benihana</td>\n    </tr>\n    <tr>\n      <th>10</th>\n      <td>Gyoza Pork</td>\n      <td>Scallop Saute</td>\n      <td>Benihana</td>\n    </tr>\n    <tr>\n      <th>11</th>\n      <td>Gyoza Sp Chk</td>\n      <td>Seaweed Salad</td>\n      <td>Benihana</td>\n    </tr>\n    <tr>\n      <th>12</th>\n      <td>Hib Short Ribs</td>\n      <td>Seaweed Sal Cmb</td>\n      <td>Benihana</td>\n    </tr>\n    <tr>\n      <th>13</th>\n      <td>Ribs Sampler</td>\n      <td>Shrimp Saute</td>\n      <td>Benihana</td>\n    </tr>\n    <tr>\n      <th>14</th>\n      <td>Sal Avo Sashimi</td>\n      <td>Shrimp Tempura</td>\n      <td>Benihana</td>\n    </tr>\n    <tr>\n      <th>15</th>\n      <td>Sashimi Sampler</td>\n      <td>Soft Shell Crab</td>\n      <td>Benihana</td>\n    </tr>\n    <tr>\n      <th>16</th>\n      <td>Seared Tuna</td>\n      <td>Sp Seaweed Sal</td>\n      <td>Benihana</td>\n    </tr>\n    <tr>\n      <th>17</th>\n      <td>Sp Eda</td>\n      <td>Sp HBR 1 Srv</td>\n      <td>Benihana</td>\n    </tr>\n    <tr>\n      <th>18</th>\n      <td>Sushi Sampler</td>\n      <td>Sp HCR 1 Srv</td>\n      <td>Benihana</td>\n    </tr>\n    <tr>\n      <th>19</th>\n      <td>Takoyaki</td>\n      <td>Sp HSR 1 Srv</td>\n      <td>Benihana</td>\n    </tr>\n    <tr>\n      <th>20</th>\n      <td>Tuna Pokè App</td>\n      <td>Veg FR 1 Serv</td>\n      <td>Benihana</td>\n    </tr>\n    <tr>\n      <th>21</th>\n      <td>Wings Appetizer</td>\n      <td>Veg Mix Saute</td>\n      <td>Benihana</td>\n    </tr>\n    <tr>\n      <th>22</th>\n      <td>-</td>\n      <td>Veg Tempura</td>\n      <td>Benihana</td>\n    </tr>\n    <tr>\n      <th>23</th>\n      <td>-</td>\n      <td>White Noodle</td>\n      <td>Benihana</td>\n    </tr>\n    <tr>\n      <th>24</th>\n      <td>-</td>\n      <td>Zucchini</td>\n      <td>Benihana</td>\n    </tr>\n  </tbody>\n</table>\n</div>",
      "text/plain": "         Appetizers            Sides Restaurant\n0   Chili Pon Ytail       Beni Salad   Benihana\n1   Crsp Rce Sp Slm  Brwn Rice 1 Srv   Benihana\n2   Chili Pnzu Ytai   Calamari Saute   Benihana\n3   Crsp Rce Sp Slm       HBR 1 Serv   Benihana\n4   Crsp Rce Sp Tna       HCR 1 Serv   Benihana\n5   Crsp Rce Sp Ytl       HSR 1 Serv   Benihana\n6           Edamame        Miso Soup   Benihana\n7       Onion Rings         Mushroom   Benihana\n8        Gyoza Beef            Onion   Benihana\n9     Gyoza Eda Veg       Onion Soup   Benihana\n10       Gyoza Pork    Scallop Saute   Benihana\n11     Gyoza Sp Chk    Seaweed Salad   Benihana\n12   Hib Short Ribs  Seaweed Sal Cmb   Benihana\n13     Ribs Sampler     Shrimp Saute   Benihana\n14  Sal Avo Sashimi   Shrimp Tempura   Benihana\n15  Sashimi Sampler  Soft Shell Crab   Benihana\n16      Seared Tuna   Sp Seaweed Sal   Benihana\n17           Sp Eda     Sp HBR 1 Srv   Benihana\n18    Sushi Sampler     Sp HCR 1 Srv   Benihana\n19         Takoyaki     Sp HSR 1 Srv   Benihana\n20    Tuna Pokè App    Veg FR 1 Serv   Benihana\n21  Wings Appetizer    Veg Mix Saute   Benihana\n22                -      Veg Tempura   Benihana\n23                -     White Noodle   Benihana\n24                -         Zucchini   Benihana"
     },
     "execution_count": 24,
     "metadata": {},
     "output_type": "execute_result"
    }
   ],
   "source": [
    "df2_DEL_app_sides_good"
   ]
  },
  {
   "cell_type": "code",
   "execution_count": 25,
   "metadata": {},
   "outputs": [],
   "source": [
    "df13_GS_bad =  pd.DataFrame(columns=['Apps/Sides','A La Carte','Rolls','Nigiri','Sashimi'])\n",
    "df13_GS_good = pd.DataFrame(columns=['GS Appetizers','GS Sides','GS A La Carte','GS Sushi Rolls','GS Nigiri','GS Sashimi'])\n",
    "\n",
    "df13_app_sides_bad = ['Beni Salad','Edamame','HCR',\"Miso Soup\",'Sashimi Sampler','Seared Tuna','Shrimp Saute','Spicy HCR']\n",
    "df13_apps_good = ['Edamame','Sashi Samplr','Seared Tna','GS Sushi Samplr']\n",
    "df13_sides_good = ['Beni Salad','HCR','Miso Soup','Shr Saute','Sp HCR']\n",
    "\n",
    "df13_alacarte = ['Chicken 7Oz','Salmon 6Oz','Shrimp 16 pcs','Steak 7Oz']\n",
    "df13_alacarte_good = ['Ckn 7oz','Slm 6oz','Shr 16pcs','Stk 7oz']\n",
    "\n",
    "df13_rolls = ['Cucumber RL','Philly Roll','Salmon RL','Tuna Roll','Veg Roll','Yellowtail RL']\n",
    "df13_rolls_good = ['Cucu RL','Philly RL','Slm RL','Tna RL','Veg RL','YTail RL']\n",
    "\n",
    "df13_nigiri = ['Alb Tuna Nigiri','Octopus Nigiri','Salmon Nigiri','Shrimp Nigiri','Snapper Nigiri','Tuna Nigiri','Ytail Nigiri']\n",
    "df13_nigiri_good =['Alb Tna Nigiri', 'Octopus Nigiri','Slm Nigiri','Shr Nigiri','Snapr Nigiri','Tna Nigiri','YTail Nigiri']\n",
    "\n",
    "df13_sashi_bad = ['Alb Tuna Sashmi','Octopus Sashimi','Salmon Sashimi','Shrimp Sashimi','Snapper Sashimi','Tuna Sashimi','Ytail Sashimi']\n",
    "df13_sashi_good = ['Alb Tna Sashi','Octopus Sashi','Slm Sashi','Shr Sashi','Snapr Sashi','Tna Sashi','Ytail Sashi']\n",
    "\n",
    "df13_GS_bad = df_maker(df13_GS_bad, {'Apps/Sides':df13_app_sides_bad,'A La Carte':df13_alacarte,'Rolls':df13_rolls,'Nigiri':df13_nigiri,'Sashimi':df13_sashi_bad})\n",
    "df13_GS_good = df_maker(df13_GS_good, {'Appetizers':df13_apps_good,'Sides':df13_sides_good,'A La Carte':df13_alacarte_good,'Sushi Rolls':df13_rolls_good,'Nigiri':df13_nigiri_good,'Sashimi':df13_sashi_good},'Benihana')"
   ]
  },
  {
   "cell_type": "code",
   "execution_count": 26,
   "metadata": {},
   "outputs": [],
   "source": [
    "df14_cater_1_bad  = pd.DataFrame(columns=['Sides','Rice','Protein','Soup/Salad','Desserts'])\n",
    "df14_cater_1_good = pd.DataFrame(columns=['CAT Appetizers','CAT Sides','CAT Rice','CAT Protein','CAT Desserts'])\n",
    "\n",
    "df14_sides_bad = ['Edamame','Hib Vegetables','Pork Gyoza','Spring Rolls','Spicy Edamame']\n",
    "df14_rice_bad = ['HCR','HCR w/Shrimp','HCR w/Steak','Spicy HCR','Steamed Rice']\n",
    "df14_protein_bad = ['Colossal Shrimp','Hibachi Chicken','Hibachi Shrimp','Hibachi Steak','Seafood Udon','Teriyaki Steak','Wings','Yakisoba','Yakisoba w/Beef','Yakisoba w/Ckn','Yakisba w/Shrmp']\n",
    "df14_soup_salad_bad = ['Benihana Salad','Benihana Soup','Miso Soup']\n",
    "df14_desserts = ['Cheesecake','Chocolate Cake']\n",
    "\n",
    "df14_appetizers = ['Edamame','Gyoza Pork','Sp Edamame']\n",
    "df14_sides_good = ['Hib Veg','Spring RL', 'Beni Salad','Beni Soup','Miso Soup']\n",
    "df14_rice_good = ['HCR','HCR w Shr','HCR w Stk','Sp HCR','Steamed Rice']\n",
    "df14_protein_good = ['Col Shr','Hib Ckn','Hib Shr','Hib Stk','Seafood Udon','Teri Stk','Wings','Yaki','Yaki Beef','Yaki Ckn','Yaki Shr']\n",
    "\n",
    "df14_desserts_good = ['Cheesecake','Chocolate Cake']\n",
    "\n",
    "\n",
    "df14_cater_1_bad  = df_maker(df14_cater_1_bad, {'Sides':df14_sides_bad,'Rice':df14_rice_bad,'Protein':df14_protein_bad,'Soup/Salad':df14_soup_salad_bad,'Desserts':df14_desserts})\n",
    "df14_cater_1_good = df_maker(df14_cater_1_good, {'CAT Appetizers':df14_appetizers,'CAT Sides':df14_sides_good,'CAT Rice':df14_rice_good,'CAT Protein':df14_protein_good,'CAT Desserts':df14_desserts_good},'Benihana')"
   ]
  },
  {
   "cell_type": "code",
   "execution_count": 27,
   "metadata": {},
   "outputs": [
    {
     "data": {
      "text/html": "<div>\n<style scoped>\n    .dataframe tbody tr th:only-of-type {\n        vertical-align: middle;\n    }\n\n    .dataframe tbody tr th {\n        vertical-align: top;\n    }\n\n    .dataframe thead th {\n        text-align: right;\n    }\n</style>\n<table border=\"1\" class=\"dataframe\">\n  <thead>\n    <tr style=\"text-align: right;\">\n      <th></th>\n      <th>CAT Appetizers</th>\n      <th>CAT Sides</th>\n      <th>CAT Rice</th>\n      <th>CAT Protein</th>\n      <th>CAT Desserts</th>\n      <th>Restaurant</th>\n    </tr>\n  </thead>\n  <tbody>\n    <tr>\n      <th>0</th>\n      <td>Edamame</td>\n      <td>Hib Veg</td>\n      <td>HCR</td>\n      <td>Col Shr</td>\n      <td>Cheesecake</td>\n      <td>Benihana</td>\n    </tr>\n    <tr>\n      <th>1</th>\n      <td>Gyoza Pork</td>\n      <td>Spring RL</td>\n      <td>HCR w Shr</td>\n      <td>Hib Ckn</td>\n      <td>Chocolate Cake</td>\n      <td>Benihana</td>\n    </tr>\n    <tr>\n      <th>2</th>\n      <td>Sp Edamame</td>\n      <td>Beni Salad</td>\n      <td>HCR w Stk</td>\n      <td>Hib Shr</td>\n      <td>-</td>\n      <td>Benihana</td>\n    </tr>\n    <tr>\n      <th>3</th>\n      <td>-</td>\n      <td>Beni Soup</td>\n      <td>Sp HCR</td>\n      <td>Hib Stk</td>\n      <td>-</td>\n      <td>Benihana</td>\n    </tr>\n    <tr>\n      <th>4</th>\n      <td>-</td>\n      <td>Miso Soup</td>\n      <td>Steamed Rice</td>\n      <td>Seafood Udon</td>\n      <td>-</td>\n      <td>Benihana</td>\n    </tr>\n    <tr>\n      <th>5</th>\n      <td>-</td>\n      <td>-</td>\n      <td>-</td>\n      <td>Teri Stk</td>\n      <td>-</td>\n      <td>Benihana</td>\n    </tr>\n    <tr>\n      <th>6</th>\n      <td>-</td>\n      <td>-</td>\n      <td>-</td>\n      <td>Wings</td>\n      <td>-</td>\n      <td>Benihana</td>\n    </tr>\n    <tr>\n      <th>7</th>\n      <td>-</td>\n      <td>-</td>\n      <td>-</td>\n      <td>Yaki</td>\n      <td>-</td>\n      <td>Benihana</td>\n    </tr>\n    <tr>\n      <th>8</th>\n      <td>-</td>\n      <td>-</td>\n      <td>-</td>\n      <td>Yaki Beef</td>\n      <td>-</td>\n      <td>Benihana</td>\n    </tr>\n    <tr>\n      <th>9</th>\n      <td>-</td>\n      <td>-</td>\n      <td>-</td>\n      <td>Yaki Ckn</td>\n      <td>-</td>\n      <td>Benihana</td>\n    </tr>\n    <tr>\n      <th>10</th>\n      <td>-</td>\n      <td>-</td>\n      <td>-</td>\n      <td>Yaki Shr</td>\n      <td>-</td>\n      <td>Benihana</td>\n    </tr>\n  </tbody>\n</table>\n</div>",
      "text/plain": "   CAT Appetizers   CAT Sides      CAT Rice   CAT Protein    CAT Desserts  \\\n0         Edamame     Hib Veg           HCR       Col Shr      Cheesecake   \n1      Gyoza Pork   Spring RL     HCR w Shr       Hib Ckn  Chocolate Cake   \n2      Sp Edamame  Beni Salad     HCR w Stk       Hib Shr               -   \n3               -   Beni Soup        Sp HCR       Hib Stk               -   \n4               -   Miso Soup  Steamed Rice  Seafood Udon               -   \n5               -           -             -      Teri Stk               -   \n6               -           -             -         Wings               -   \n7               -           -             -          Yaki               -   \n8               -           -             -     Yaki Beef               -   \n9               -           -             -      Yaki Ckn               -   \n10              -           -             -      Yaki Shr               -   \n\n   Restaurant  \n0    Benihana  \n1    Benihana  \n2    Benihana  \n3    Benihana  \n4    Benihana  \n5    Benihana  \n6    Benihana  \n7    Benihana  \n8    Benihana  \n9    Benihana  \n10   Benihana  "
     },
     "execution_count": 27,
     "metadata": {},
     "output_type": "execute_result"
    }
   ],
   "source": [
    "df14_cater_1_good"
   ]
  },
  {
   "cell_type": "code",
   "execution_count": 28,
   "metadata": {},
   "outputs": [],
   "source": [
    "df15_cater_2_bad  = pd.DataFrame(columns=['CAT Packages','CAT Platters','CAT Trays','Beverages'])\n",
    "df15_cater_2_good = pd.DataFrame(columns=['CAT Packages','CAT Platters','CAT Trays','Beverages'])\n",
    "\n",
    "df15_bev_bad = ['Ben Lemon bag','Ben Rasp Lem','Ben Mngo Lem','Ben Strw Lem','Ben PsFr Lem','Iced Tea Bag']"
   ]
  },
  {
   "cell_type": "code",
   "execution_count": null,
   "metadata": {},
   "outputs": [],
   "source": []
  },
  {
   "cell_type": "code",
   "execution_count": 34,
   "metadata": {},
   "outputs": [
    {
     "name": "stdout",
     "output_type": "stream",
     "text": [
      "         Date    Category  Value\n",
      "0  2021-01-01  Category_A     10\n",
      "1  2021-01-01  Category_A     20\n",
      "2  2022-01-01  Category_B     30\n",
      "3  2022-01-01  Category_B     40\n",
      "         Date    Category  Value\n",
      "0  2021-01-01  Category_A     30\n",
      "1  2022-01-01  Category_B     70\n",
      "         Date    Category Value\n",
      "0  2021-01-01  Category_A    30\n",
      "1  2022-01-01  Category_B    70\n"
     ]
    },
    {
     "name": "stderr",
     "output_type": "stream",
     "text": [
      "/Users/bryan/Library/Python/3.8/lib/python/site-packages/IPython/core/interactiveshell.py:3441: FutureWarning: This dataframe has a column name that matches the 'value_name' column name of the resulting Dataframe. In the future this will raise an error, please set the 'value_name' parameter of DataFrame.melt to a unique name.\n",
      "  exec(code_obj, self.user_global_ns, self.user_ns)\n"
     ]
    }
   ],
   "source": [
    "data = {'Date': ['2021-01-01', '2021-01-01', '2022-01-01', '2022-01-01'],\n",
    "        'Category': ['Category_A', 'Category_A', 'Category_B', 'Category_B'],\n",
    "        'Value': [10, 20, 30, 40]}\n",
    "\n",
    "df = pd.DataFrame(data)\n",
    "print(df)\n",
    "# Check for and handle duplicate entries in 'Date'\n",
    "if df['Date'].duplicated().any():\n",
    "    # If there are duplicates, you may choose to aggregate or drop them\n",
    "    df = df.groupby(['Date', 'Category'], as_index=False).agg({'Value': 'sum'})\n",
    "\n",
    "print(df)\n",
    "# Melt the DataFrame to transform it to long format\n",
    "melted_df = pd.melt(df, id_vars=['Date'], var_name='Category', value_name='Value')\n",
    "\n",
    "# Pivot the melted DataFrame\n",
    "pivoted_df = melted_df.pivot(index='Date', columns='Category', values='Value').reset_index()\n",
    "\n",
    "# Rename the columns if needed\n",
    "pivoted_df.columns.name = None\n",
    "\n",
    "# Display the result\n",
    "print(pivoted_df)"
   ]
  },
  {
   "cell_type": "code",
   "execution_count": null,
   "metadata": {},
   "outputs": [],
   "source": []
  }
 ],
 "metadata": {
  "kernelspec": {
   "display_name": "Python 3.8.2 64-bit",
   "metadata": {
    "interpreter": {
     "hash": "31f2aee4e71d21fbe5cf8b01ff0e069b9275f58929596ceb00d14d90e3e16cd6"
    }
   },
   "name": "python3"
  },
  "language_info": {
   "codemirror_mode": {
    "name": "ipython",
    "version": 3
   },
   "file_extension": ".py",
   "mimetype": "text/x-python",
   "name": "python",
   "nbconvert_exporter": "python",
   "pygments_lexer": "ipython3",
   "version": "3.8.2"
  },
  "orig_nbformat": 2
 },
 "nbformat": 4,
 "nbformat_minor": 2
}